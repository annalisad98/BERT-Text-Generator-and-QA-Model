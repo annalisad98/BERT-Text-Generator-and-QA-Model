{
  "nbformat": 4,
  "nbformat_minor": 0,
  "metadata": {
    "colab": {
      "name": "wiki40prompts",
      "provenance": [],
      "include_colab_link": true
    },
    "kernelspec": {
      "name": "python3",
      "display_name": "Python 3"
    },
    "language_info": {
      "name": "python"
    }
  },
  "cells": [
    {
      "cell_type": "markdown",
      "metadata": {
        "id": "view-in-github",
        "colab_type": "text"
      },
      "source": [
        "<a href=\"https://colab.research.google.com/github/annalisad98/MLDL2021/blob/main/wiki40prompts.ipynb\" target=\"_parent\"><img src=\"https://colab.research.google.com/assets/colab-badge.svg\" alt=\"Open In Colab\"/></a>"
      ]
    },
    {
      "cell_type": "code",
      "metadata": {
        "id": "omgzdvIZv0r4"
      },
      "source": [
        "def listToString(s): \n",
        "    \n",
        "    # initialize an empty string\n",
        "    str1 = \" \" \n",
        "    \n",
        "    # return string  \n",
        "    return (str1.join(s))"
      ],
      "execution_count": null,
      "outputs": []
    },
    {
      "cell_type": "code",
      "metadata": {
        "id": "c8OZ-a-9ok3y"
      },
      "source": [
        "import re\n",
        "import random\n",
        "\n",
        "file2 = open(\"wiki_train_no_titles.txt\", \"w\")\n",
        "#with open('prova.txt') as f:\n",
        "with open('/content/drive/MyDrive/Progetto MLDL/wiki.train.tokens') as f:\n",
        "          content = f.readlines()\n",
        "\n",
        "for line in content:\n",
        "  if not \"=\" in line:\n",
        "    lines = line.split(\"\\n\")\n",
        "    non_empty_lines = [line for line in lines if line.strip() != \"\"]\n",
        "    string_without_empty_lines = \"\"\n",
        "    for line in non_empty_lines:\n",
        "      string_without_empty_lines += line + \"\\n\"\n",
        "    file2.write(string_without_empty_lines)\n",
        "\n",
        "\n",
        "file3 = open(\"wiki_train_1000_samples.txt\", \"w\")\n",
        "with open('wiki_train_no_titles.txt') as f:\n",
        "    sample_lines = random.sample(f.readlines(),1300)\n",
        "\n",
        "    sample_string = \"\"\n",
        "    for line in sample_lines:\n",
        "      sample_string += line\n",
        "file3.write(sample_string)\n",
        "\n",
        "file4 = open(\"wiki_train_1000_samples_beginning.txt\", \"w\")\n",
        "with open(\"wiki_train_1000_samples.txt\") as f:\n",
        "    lines = f.readlines()\n",
        "    for line in lines:\n",
        "       liness = line.split()\n",
        "       beginning_words = liness[:6]\n",
        "       beginning_words = listToString(beginning_words) + \"\\n\"\n",
        "       if not \"@-@\" in beginning_words:\n",
        "         file4.write(beginning_words)\n",
        "      \n",
        "      \n",
        "file2.close()\n",
        "file3.close()\n",
        "file4.close()"
      ],
      "execution_count": null,
      "outputs": []
    },
    {
      "cell_type": "code",
      "metadata": {
        "id": "3Nsror4Glvmx"
      },
      "source": [
        "file5 = open(\"wt1000samples_beginning.txt\", \"w\")\n",
        "#with open('prova.txt') as f:\n",
        "with open('/content/wiki_train_1000_samples_beginning.txt') as f:\n",
        "          content = f.readlines()\n",
        "\n",
        "for line in content:\n",
        "  if not \"@\" in line:\n",
        "    if not \"unk\" in line:\n",
        "      if not \"(\" in line:\n",
        "        if not \"\\\"\" in line:\n",
        "          if not \")\" in line:\n",
        "            #if not \"'\" in line:\n",
        "            lines = line.split(\"\\n\")\n",
        "            non_empty_lines = [line for line in lines if line.strip() != \"\"]\n",
        "            string_without_empty_lines = \"\"\n",
        "            for line in non_empty_lines:\n",
        "              string_without_empty_lines += line + \"\\n\"\n",
        "            file5.write(string_without_empty_lines)\n",
        "\n",
        "file6 = open(\"wt40.txt\", \"w\")\n",
        "with open('wt1000samples_beginning.txt') as f:\n",
        "    sample_lines = random.sample(f.readlines(),40)\n",
        "    \n",
        "    sample_string = \"\"\n",
        "    for line in sample_lines:\n",
        "      sample_string += line\n",
        "file6.write(sample_string)\n",
        "file6.close()\n",
        "file5.close()"
      ],
      "execution_count": null,
      "outputs": []
    },
    {
      "cell_type": "code",
      "metadata": {
        "colab": {
          "base_uri": "https://localhost:8080/"
        },
        "id": "6W0BnLoEpH7q",
        "outputId": "9af4afcc-aeef-4523-a6c9-5ea4d4fbb816"
      },
      "source": [
        "from google.colab import drive\n",
        "drive.mount('/content/drive')"
      ],
      "execution_count": null,
      "outputs": [
        {
          "output_type": "stream",
          "text": [
            "Mounted at /content/drive\n"
          ],
          "name": "stdout"
        }
      ]
    }
  ]
}