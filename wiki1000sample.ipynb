{
  "nbformat": 4,
  "nbformat_minor": 0,
  "metadata": {
    "colab": {
      "name": "wiki1000sample",
      "provenance": [],
      "include_colab_link": true
    },
    "kernelspec": {
      "name": "python3",
      "display_name": "Python 3"
    },
    "language_info": {
      "name": "python"
    }
  },
  "cells": [
    {
      "cell_type": "markdown",
      "metadata": {
        "id": "view-in-github",
        "colab_type": "text"
      },
      "source": [
        "<a href=\"https://colab.research.google.com/github/annalisad98/MLDL2021/blob/main/wiki1000sample.ipynb\" target=\"_parent\"><img src=\"https://colab.research.google.com/assets/colab-badge.svg\" alt=\"Open In Colab\"/></a>"
      ]
    },
    {
      "cell_type": "code",
      "metadata": {
        "id": "-qfIRrxcC9Y1"
      },
      "source": [
        "import re\n",
        "import random\n",
        "\n",
        "file2 = open(\"wiki_train_no_titles.txt\", \"w\")\n",
        "#with open('prova.txt') as f:\n",
        "with open('/content/drive/MyDrive/Progetto MLDL/wikitext-103-v1/wikitext-103/wiki.train.tokens') as f:\n",
        "          content = f.readlines()\n",
        "\n",
        "for line in content:\n",
        "  if not \"=\" in line:\n",
        "    lines = line.split(\"\\n\")\n",
        "    non_empty_lines = [line for line in lines if line.strip() != \"\"]\n",
        "    string_without_empty_lines = \"\"\n",
        "    for line in non_empty_lines:\n",
        "      string_without_empty_lines += line + \"\\n\"\n",
        "    file2.write(string_without_empty_lines)\n",
        "\n",
        "file3 = open(\"wiki_train_1000_samples.txt\", \"w\")\n",
        "with open('wiki_train_no_titles.txt') as f:\n",
        "    sample_lines = random.sample(f.readlines(),1000)\n",
        "\n",
        "    sample_string = \"\"\n",
        "    for line in sample_lines:\n",
        "      sample_string += line\n",
        "file3.write(sample_string)\n",
        "\n",
        "\n",
        "file2.close()\n",
        "file3.close()"
      ],
      "execution_count": null,
      "outputs": []
    }
  ]
}