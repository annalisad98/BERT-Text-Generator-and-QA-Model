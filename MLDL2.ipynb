{
  "nbformat": 4,
  "nbformat_minor": 0,
  "metadata": {
    "colab": {
      "name": "MLDL2.ipynb",
      "provenance": [],
      "collapsed_sections": [],
      "include_colab_link": true
    },
    "kernelspec": {
      "name": "python3",
      "display_name": "Python 3"
    },
    "language_info": {
      "name": "python"
    }
  },
  "cells": [
    {
      "cell_type": "markdown",
      "metadata": {
        "id": "view-in-github",
        "colab_type": "text"
      },
      "source": [
        "<a href=\"https://colab.research.google.com/github/annalisad98/MLDL2021/blob/main/MLDL2.ipynb\" target=\"_parent\"><img src=\"https://colab.research.google.com/assets/colab-badge.svg\" alt=\"Open In Colab\"/></a>"
      ]
    },
    {
      "cell_type": "markdown",
      "metadata": {
        "id": "Zy7tliyRQw9c"
      },
      "source": [
        "# Q&A USING BERT\n"
      ]
    },
    {
      "cell_type": "markdown",
      "metadata": {
        "id": "o0FydRedUP27"
      },
      "source": [
        "## Turning a Google Colab notebook into a web app\n",
        "\n",
        "link: [turning a Colab notebook into a web app tutorial](https://anvil.works/learn/tutorials/google-colab-to-web-app).\n",
        "\n"
      ]
    },
    {
      "cell_type": "markdown",
      "metadata": {
        "id": "XRNEq2Tb5gnq"
      },
      "source": [
        "Let's start by installing the `anvil-uplink` library, all we need to do is add `!pip install anvil-uplink` to the first cell of the notebook:"
      ]
    },
    {
      "cell_type": "code",
      "metadata": {
        "id": "5BvNgFgk5dE2"
      },
      "source": [
        "!pip install anvil-uplink"
      ],
      "execution_count": null,
      "outputs": []
    },
    {
      "cell_type": "markdown",
      "metadata": {
        "id": "WOjHWnhO5k0x"
      },
      "source": [
        "Next import the Anvil server package by adding `import anvil.server`:\n",
        "\n",
        "Importing `anvil.server` means, when this notebook is connected via the Uplink, it will behave in the same way as any other [Anvil Server Module](https://anvil.works/docs/server)."
      ]
    },
    {
      "cell_type": "code",
      "metadata": {
        "id": "EML6wBYQ5fiM"
      },
      "source": [
        "import anvil.server"
      ],
      "execution_count": null,
      "outputs": []
    },
    {
      "cell_type": "markdown",
      "metadata": {
        "id": "RV2ze8a7ScHo"
      },
      "source": [
        "Then connect this notebook to your app using your Uplink key `anvil.server.connect(\"your-uplink-key\")`:\n",
        "\n",
        "For information on how to get your apps Uplink key, see [Step 4 - Enable the Uplink](https://anvil.works/learn/tutorials/google-colab-to-web-app#step-4-enable-the-uplink)."
      ]
    },
    {
      "cell_type": "code",
      "metadata": {
        "id": "MA9-qSCOSckw"
      },
      "source": [
        "anvil.server.connect(\"P7Y7KME746EHPE6NBTR745GP-D4EPHV6BPZ2B2GKF\")"
      ],
      "execution_count": null,
      "outputs": []
    },
    {
      "cell_type": "markdown",
      "metadata": {
        "id": "kviVzKkbsCdI"
      },
      "source": [
        "In the following part we build our question-answer model\n",
        "\n",
        "Refer to:\n",
        "- https://towardsdatascience.com/question-and-answering-with-bert-6ef89a78dac\n",
        "- https://huggingface.co/transformers/task_summary.html#extractive-question-answering"
      ]
    },
    {
      "cell_type": "code",
      "metadata": {
        "id": "bggXRN0kRqDf"
      },
      "source": [
        "!pip install transformers\n",
        "% pip install sentencepiece"
      ],
      "execution_count": null,
      "outputs": []
    },
    {
      "cell_type": "code",
      "metadata": {
        "id": "WgorEw7AQZ4o"
      },
      "source": [
        "#from transformers import BertForQuestionAnswering, AutoTokenizer\n",
        "from transformers import XLMRobertaForQuestionAnswering, AutoTokenizer"
      ],
      "execution_count": null,
      "outputs": []
    },
    {
      "cell_type": "code",
      "metadata": {
        "id": "XEgru5riSTcC"
      },
      "source": [
        "#modelname = 'deepset/bert-base-cased-squad2'\n",
        "modelname = 'deepset/xlm-roberta-large-squad2'\n",
        "model = XLMRobertaForQuestionAnswering.from_pretrained(modelname)\n",
        "tokenizer = AutoTokenizer.from_pretrained(modelname)"
      ],
      "execution_count": null,
      "outputs": []
    },
    {
      "cell_type": "code",
      "metadata": {
        "id": "E4LSd6AESlaX"
      },
      "source": [
        "from transformers import pipeline\n",
        "nlp = pipeline('question-answering', model=model, tokenizer=tokenizer)"
      ],
      "execution_count": null,
      "outputs": []
    },
    {
      "cell_type": "code",
      "metadata": {
        "id": "aacUFjj6Vo5G"
      },
      "source": [
        "#----------------------------\n",
        "# the following is a robotics text from https://www.nowpublishers.com/article/Details/ROB-065\n",
        "text2 = r\"\"\"\n",
        "... Robotics and related technologies are central to the ongoing digitization and advancement of manufacturing. \n",
        "... In recent years, a variety of strategic initiatives around the world including “Industry 4.0”, introduced in Germany in 2011 , have aimed to improve and connect manufacturing technologies in order to optimize production processes. \n",
        "... In this work, we study the changing technological landscape of robotics and “Internet-of-Things” (IoT)-based connective technologies over the last 7–10 years in the wake of Industry 4.0. \n",
        "... We interviewed key players within the European robotics ecosystem, including robotics manufacturers and integrators, original equipment manufacturers (OEMs), and applied industrial research institutions and synthesize our findings in this monograph. \n",
        "... We first detail the state-of-the-art robotics and IoT technologies we observed and that the companies discussed during our interviews. \n",
        "... We then describe the processes the companies follow when deciding whether and how to integrate new technologies, the challenges they face when integrating these technologies, and some immediate future technological avenues they are exploring in robotics and IoT. \n",
        "... Finally, based on our findings, we highlight key research directions for the robotics community that can enable improved capabilities in the context of manufacturing.\n",
        "... \"\"\"\n",
        "text2_ita = r\"\"\"\n",
        "... La robotica e le tecnologie correlate sono fondamentali per la digitalizzazione e il progresso nella produzione.\n",
        "... Negli ultimi anni, una serie di iniziative strategiche in tutto il mondo, tra cui \"Industria 4.0\", introdotta in Germania nel 2011 , mirano a migliorare e collegare tecnologie di produzione per ottimizzare i processi produttivi. \n",
        "... In questo lavoro, studiamo il cambiamento del panorama tecnologico della robotica e delle tecnologie connettive basate su \"Internet-of-Things\" (IoT) negli ultimi 7-10 anni sulla scia dell'Industria 4.0. \n",
        "... Abbiamo intervistato giocatori chiave all'interno dell'ecosistema robotico europeo, inclusi produttori e integratori di robotica, produttori di apparecchiature originali (OEM), e istituti di ricerca industriale applicata e abbiamo riassunto i nostri risultati in questa monografia.\n",
        "... Per prima cosa dettagliamo la robotica all'avanguardia e le tecnologie IoT che abbiamo osservato e che di cui le aziende hanno discusso durante le nostre interviste. \n",
        "... Descriviamo quindi i processi che le aziende seguono quando decidono se e come integrare le nuove tecnologie, le sfide che devono affrontare durante l'integrazione di queste tecnologie e alcune strade tecnologiche del futuro immediato che stanno esplorando nella robotica e nell'IoT. \n",
        "... Infine, in base ai nostri risultati, evidenziamo le direzioni di ricerca chiave per la comunità della robotica che possono consentire capacità migliorate nel contesto della produzione.\n",
        "... \"\"\"\n",
        "\n",
        "text2_fra = r\"\"\"\n",
        "... La robotique et les technologies connexes sont au cœur de la numérisation et de l'avancement continus de la fabrication. \n",
        "... Ces dernières années, une variété d'initiatives stratégiques à travers le monde, y compris « Industrie 4.0 », introduite en Allemagne en 2011 , ont visé à améliorer et connecter les technologies de fabrication afin d'optimiser les processus de production.\n",
        "... Dans ce travail, nous étudions l'évolution du paysage technologique de la robotique et des technologies de connexion basées sur l'Internet des objets (IoT) au cours des 7 à 10 dernières années dans le sillage de l'Industrie 4.0.\n",
        "... Nous avons interrogé des acteurs clés au sein de l'écosystème robotique européen, notamment des fabricants et intégrateurs de robotique, des fabricants d'équipements d'origine (OEM) et des instituts de recherche industrielle appliquée, et synthétisons nos conclusions dans cette monographie.\n",
        "... Nous détaillons dans un premier temps les technologies robotiques et IoT de pointe que nous avons observées et dont les entreprises ont discuté lors de nos entretiens. \n",
        "... Nous décrivons ensuite les processus suivis par les entreprises lorsqu'elles décident si et comment intégrer de nouvelles technologies, les défis auxquels elles sont confrontées lors de l'intégration de ces technologies, et certaines avenues technologiques futures immédiates qu'elles explorent en robotique et IoT. \n",
        "... Enfin, sur la base de nos résultats, nous mettons en évidence des axes de recherche clés pour la communauté robotique qui peuvent permettre d'améliorer les capacités dans le contexte de la fabrication.\n",
        "... \"\"\"\n",
        "\n",
        "#questions2 = [\n",
        "#...    \" When was Industry 4.0 introduced?\",\n",
        "#...    \" What is being studied?\",\n",
        "#]\n",
        "\n",
        "#questions2_ita = [\n",
        "#...    \" Quando è stata introdotta l'Industria 4.0? \",\n",
        "#...    \" Che cosa si studia in questo lavoro?\"\n",
        "#]\n",
        "\n",
        "#questions2_fra = [\n",
        "#...    \" Quand l'Industrie 4.0 a-t-elle été introduite ? \",\n",
        "#...    \" Qu'est-ce qui est étudié? \"\n",
        "#]\n",
        "\n",
        "# the following text is related to data analytics\n",
        "text3 = r\"\"\"\n",
        "... Modern data analytics applications on graphs often operate on domains where graph topology is not known a priori, and hence its determination becomes part of the problem definition, rather than serving as prior knowledge which aids the problem solution. \n",
        "... Part III of this monograph starts by a comprehensive account of ways to learn the pertinent graph topology, ranging from the simplest case where the physics of the problem already suggest a possible graph structure, through to general cases where the graph structure is to be learned from the data observed on a graph . \n",
        "... A particular emphasis is placed on the use of standard “relationship measures” in this context, including the correlation and precision matrices, together with the ways to combine these with the available prior knowledge and structural conditions, such as the smoothness of the graph signals or sparsity of graph connections. \n",
        "... Next, for learning sparse graphs (that is, graphs with a small number of edges ), the utility of the least absolute shrinkage and selection operator, known as LASSO is addressed, along with its graph specific variant, the graphical LASSO. \n",
        "... For completeness, both variants of LASSO are derived in an intuitive way, starting from basic principles. \n",
        "... An in-depth elaboration of the graph topology learning paradigm is provided through examples on physically well defined graphs, such as electric circuits, linear heat transfer, social and computer networks, and springmass systems. \n",
        "... We also review main trends in graph neural networks (GNN) and graph convolutional networks (GCN) from the perspective of graph signal filtering. \n",
        "... Particular insight is given to the role of diffusion processes over graphs, to show that GCNs can be understood from the graph diffusion perspective. \n",
        "... Given the largely heuristic nature of the existing GCNs, their treatment through graph diffusion processes may also serve as a basis for new designs of GCNs. \n",
        "... Tensor representation of lattice-structured graphs is next considered, and it is shown that tensors (multidimensional data arrays) can be treated as a special class of graph signals , whereby the graph vertices reside on a high-dimensional regular lattice structure. \n",
        "... The concept of graph tensor networks then provides a unifying framework for learning on irregular domains. \n",
        "... This part of monograph concludes with an in-dept account of emerging applications in financial data processing and underground transportation network modeling.\n",
        "... By means of portfolio cuts of an asset graph, we show how domain knowledge can be meaningfully incorporated into investment analysis. \n",
        "... In the underground transportation example, we demonstrate how graph theory can be used to identify those stations in the London underground network which have the greatest influence on the functionality of the traffic, and proceed, in an innovative way, to assess the impact of a station closure on service levels across the city.\"\"\"\n",
        "\n",
        "text3_ita = r\"\"\"\n",
        "... Le moderne applicazioni di analisi dei dati sui grafi spesso operano su domini in cui la topologia del grafo non è nota a\n",
        "... a priori, e quindi la sua determinazione diventa parte della definizione del problema, piuttosto che servire come conoscenza preliminare che aiuta la soluzione del problema. \n",
        "... La parte III di questa monografia inizia con un resoconto completo dei modi per apprendere la topologia del grafo pertinente, che va dal caso più semplice in cui la fisica del problema suggerisce già una possibile struttura del grafo, fino ai casi generali in cui la struttura del grafo deve essere appresa dai dati osservati su un grafo .\n",
        "... Un'enfasi particolare è posta sull'uso di \"misure di relazione\" standard in questo contesto, inclusa la correlazione e matrici di precisione, insieme ai modi per combinarli con le conoscenze pregresse disponibili e le condizioni strutturali, come l'uniformità dei segnali grafici o la scarsità delle connessioni grafiche. \n",
        "... Successivamente, per l'apprendimento di grafi sparsi (cioè grafi con un numero ridotto di edges ), l'utilità dell'operatore di ritiro e selezione minimo assoluto, noto come LASSO è affrontato, insieme alla sua variante specifica del grafo, il LASSO grafico.\n",
        "... Per completezza, entrambe le varianti di LASSO sono derivate in modo intuitivo, partendo da principi di base. \n",
        "... Viene fornita un'elaborazione approfondita del paradigma di apprendimento della topologia dei grafi attraverso esempi su grafici fisicamente ben definiti, come circuiti elettrici, trasferimento di calore lineare, reti sociali e informatiche e sistemi springmass. \n",
        "... Esaminiamo anche le principali tendenze nelle reti neurali a grafo (GNN) e reti convoluzionali a grafo (GCN) dal punto di vista del filtraggio del segnale grafico. \n",
        "... Particolare approfondimento è dato al ruolo di processi di diffusione sui grafi, per mostrare che i GCN possono essere compresi dal punto di vista della diffusione del grafo. \n",
        "... Data la natura ampiamente euristica dei GCN esistenti, il loro trattamento attraverso processi di diffusione di grafi può anche servire come base per nuovi design di GCN. \n",
        "... Viene poi considerata la rappresentazione tensoriale dei grafi strutturati a reticolo, e viene mostrato che i tensori (vettori di dati multidimensionali) possono essere trattati come una classe speciale di segnali grafici , per cui i vertici del grafo risiedono su una struttura reticolare regolare ad alta dimensione. \n",
        "... Il concetto di reti di tensori grafici fornisce quindi un unificante quadro per l'apprendimento su domini irregolari. \n",
        "... Questa parte della monografia si conclude con un resoconto approfondito delle applicazioni emergenti nell'elaborazione dei dati finanziari e nella modellazione della rete di trasporti sotterranei. \n",
        "... Per mezzo di tagli di portafoglio di un grafo di asset,\n",
        "... mostriamo come la conoscenza del dominio può essere significativamente incorporata nell'analisi degli investimenti. \n",
        "... Nell'esempio del trasporto sotterraneo,\n",
        "... dimostriamo come la teoria dei grafi può essere utilizzata per identificare quelle stazioni della rete metropolitana di Londra che hanno la\n",
        "... maggior influenza sulla funzionalità del traffico,\n",
        "... e procedere, in modo innovativo, per valutare l'impatto della chiusura di una stazione sui livelli di servizio in tutta la città.\n",
        "... \"\"\"\n",
        "\n",
        "text3_fra = r\"\"\"\n",
        "... Les applications modernes d'analyse de données sur les graphes opèrent souvent sur des domaines où la topologie des graphes n'est pas connue a priori, et donc sa détermination devient une partie de la définition du problème, plutôt que de servir de connaissance préalable qui aide à la solution du problème.\n",
        "... La partie III de cette monographie commence par un compte rendu complet des moyens d'apprendre la topologie de graphe pertinente, allant du cas le plus simple où la physique du problème suggère déjà une structure de graphe possible, jusqu'aux cas généraux où la structure de graphe doit être appris à partir des données observées sur un graphique.\n",
        "... Un accent particulier est mis sur l'utilisation de «mesures de relation» standard dans ce contexte, y compris les matrices de corrélation et de précision, ainsi que les moyens de les combiner avec les connaissances préalables disponibles et les conditions structurelles, telles que la régularité de la des signaux de graphe ou la rareté des connexions de graphe.\n",
        "... Ensuite, pour l'apprentissage des graphes clairsemés (c'est-à-dire des graphes avec un petit nombre d'arêtes ), l'utilité de l'opérateur de retrait et de sélection le moins absolu, connu sous le nom de LASSO, est abordée, ainsi que sa variante spécifique au graphe, le LASSO graphique.\n",
        "... Pour être complet, les deux variantes de LASSO sont dérivées de manière intuitive, à partir de principes de base.\n",
        "... Une élaboration approfondie du paradigme d'apprentissage de la topologie des graphes est fournie à travers des exemples sur des graphes physiquement bien définis, tels que les circuits électriques, le transfert de chaleur linéaire, les réseaux sociaux et informatiques et les systèmes Springmass.\n",
        "... Nous passons également en revue les principales tendances des réseaux de neurones sur graphes (GNN) et des réseaux de neurones convolutifs sur graphes (GCN) du point de vue du filtrage des signaux graphiques .\n",
        "... Un aperçu particulier est donné du rôle des processus de diffusion sur les graphes, pour montrer que les GCN peuvent être compris du point de vue de la diffusion des graphes.\n",
        "... Étant donné la nature largement heuristique des GCN existants, leur traitement par des processus de diffusion de graphes peut également servir de base pour de nouvelles conceptions de GCN.\n",
        "... La représentation tensorielle des graphes structurés en treillis est ensuite considérée, et il est montré que les tenseurs (tableaux de données multidimensionnels) peuvent être traités come une classe spéciale de signaux de graphes , les sommets du graphe résidant sur une structure en treillis régulière de grande dimension.\n",
        "... Le concept de réseaux de tenseurs de graphes fournit alors un cadre unificateur pour l'apprentissage sur des domaines irréguliers.\n",
        "... Cette partie de la monographie se termine par un compte rendu détaillé des applications émergentes dans le traitement des données financières et la modélisation des réseaux de transport souterrain.\n",
        "... Au moyen de coupes de portefeuille d'un graphique d'actifs, nous montrons comment la connaissance du domaine peut être intégrée de manière significative dans l'analyse des investissements.\n",
        "... Dans l'exemple du transport souterrain, nous montrons comment la théorie des graphes peut être utilisée pour identifier les stations du réseau souterrain de Londres qui ont la plus grande influence sur la fonctionnalité du trafic, et procéder, de manière innovante, à évaluer l'impact d'une fermeture de gare sur les niveaux de service à travers la ville.\"\"\"\n",
        "\n",
        "#questions3 = [\n",
        "#...    \" How can we know the structure of a graph?\",\n",
        "#...    \" How can we treat tensors? \",\n",
        "#...    \" What is a sparse graph? \"          ***\n",
        "#]\n",
        "\n",
        "#questions3_ita = [\n",
        "#...    \" Come possiamo conoscere la struttura di un grafo? \",\n",
        "#...    \" Come possiamo trattare i tensori? \",\n",
        "#...    \" Cos'è un grafo sparso? \"\n",
        "#]\n",
        "\n",
        "#questions3_fra = [\n",
        "#...    \" Comment connaître la structure d'un graphe ? \",\n",
        "#...    \" Comment traiter les tenseurs ? \",\n",
        "#...    \" Qu'est-ce qu'un graphe clairsemé ? \"\n",
        "#]\n",
        "\n",
        "# The following text is related to Renewable Energy: https://www.nowpublishers.com/article/Details/REN-001\n",
        "text4 = r\"\"\"\n",
        "... Bio-resources are becoming increasingly contested as the demand for food grows . \n",
        "... There is also a pressure to provide energy and materials from them. \n",
        "... This monograph discusses the current flows of bio-resources, their inherent properties and the services that these resources could provide in a sustainable bio-based economy.\n",
        "... There are two possible pathways that could convert solar radiation — which would be seen as our planet's natural income — into material goods and storable energy carriers. \n",
        "... This would be using electricity to generate hydrogen via electrolysis and convert it with CO2 into hydrocarbons or utilizing bio-resources. \n",
        "... Most uses of bio-resources compete for limited fertile land, requiring the highest possible efficiency in their use. \n",
        "... Natural endowment of land, logistical requirements as well as economic and cultural factors in their utilization make bio-resources inherently contextual goods. \n",
        "... Decisions about the rational use of bio-resources must therefore be taken into account with regard to concrete regional contexts.\n",
        "... Based on the analysis of services of bio-resources in a bio-based economy, their particular properties and the characteristics of current state technologies, this monograph develops rules to balance the utilization of bio-resources in the framework of regional context.\"\"\"\n",
        "\n",
        "text4_ita = r\"\"\"\n",
        "... Le risorse biologiche stanno diventando sempre più contestate man mano che la domanda di cibo cresce . \n",
        "... C'è anche una pressione per fornire energia e materiali da loro. \n",
        "... Questa monografia discute gli attuali flussi di risorse biologiche, le loro proprietà intrinseche e i servizi che queste risorse potrebbero fornire in una bioeconomia sostenibile.\n",
        "... Esistono due possibili percorsi che potrebbero convertire la radiazione solare, che sarebbe considerata il reddito naturale del nostro pianeta, in beni materiali e vettori energetici immagazzinabili. Ciò significherebbe utilizzare l'elettricità per generare idrogeno tramite elettrolisi e convertirlo con CO2 in idrocarburi o utilizzare risorse biologiche. La maggior parte degli usi delle bio-risorse competono per terreni fertili limitati, che richiedono la massima efficienza possibile nel loro utilizzo. La dotazione naturale del territorio, le esigenze logistiche, nonché i fattori economici e culturali del loro utilizzo, fanno delle biorisorse beni intrinsecamente contestuali. \n",
        "... Le decisioni sull'uso razionale delle biorisorse devono quindi essere prese in considerazione in contesti regionali concreti.\n",
        "... Basandosi sull'analisi dei servizi delle biorisorse in una bioeconomia, delle loro particolari proprietà e delle caratteristiche delle attuali tecnologie statali, questa monografia sviluppa regole per bilanciare l'utilizzo delle biorisorse nel quadro del contesto regionale.\n",
        "... \"\"\"\n",
        "\n",
        "text4_fra = r\"\"\"\n",
        "... Les bioressources sont de plus en plus contestées à mesure que la demande alimentaire augmente .\n",
        "... Il y a aussi une pression pour fournir de l'énergie et des matériaux à partir d'eux.\n",
        "... Cette monographie traite des flux actuels de bio-ressources, de leurs propriétés inhérentes et des services que ces ressources pourraient fournir dans une bio-économie durable.\n",
        "... Il existe deux voies possibles pour convertir le rayonnement solaire – qui serait considéré comme le revenu naturel de notre planète – en biens matériels et en vecteurs d'énergie stockables.\n",
        "... Il s'agirait d'utiliser l'électricité pour générer de l'hydrogène par électrolyse et de le convertir avec du CO2 en hydrocarbures ou d'utiliser des bio-ressources.\n",
        "... La plupart des utilisations des bio-ressources sont en concurrence pour des terres fertiles limitées, nécessitant la plus grande efficacité possible dans leur utilisation.\n",
        "... La dotation naturelle des terres, les exigences logistiques ainsi que les facteurs économiques et culturels dans leur utilisation font des bio-ressources des biens intrinsèquement contextuels.\n",
        "... Les décisions d'utilisation rationnelle des bioressources doivent donc être prises en compte au regard des contextes régionaux concrets.\n",
        "... Basée sur l'analyse des services des bio-ressources dans une bio-économie, leurs propriétés particulières et les caractéristiques des technologies de l'état actuel, cette monographie développe des règles pour équilibrer l'utilisation des bio-ressources dans le cadre du contexte régional.\n",
        "... \"\"\"\n",
        "\n",
        "#questions4 = [\n",
        "#...    \" Why are Bio-resources becoming increasingly contested? \",\n",
        "#...    \" Which rules are being developed in this context? \",\n",
        "#]\n",
        "\n",
        "#questions4_ita = [\n",
        "#...    \" Perchè le risorse biologiche stanno diventando sempre più contestate? \",\n",
        "#...    \" Quali regole vengono sviluppate in questo contesto? \"   ***\n",
        "#]\n",
        "\n",
        "#questions4_fra = [\n",
        "#...    \" Pourquoi les Bio-ressources sont-elles de plus en plus contestées ? \",\n",
        "#...    \" Quelles règles sont élaborées dans ce contexte ? \"\n",
        "#]\n",
        "\n",
        "\n",
        "#--------------------------------------------------\n"
      ],
      "execution_count": null,
      "outputs": []
    },
    {
      "cell_type": "code",
      "metadata": {
        "id": "-zK3-sl3rx63"
      },
      "source": [
        "@anvil.server.callable\n",
        "def question_answer(language,argument,question):\n",
        "  if argument == \"Robotics\":\n",
        "\n",
        "    if language == \"English\":\n",
        "      text = text2\n",
        "    elif language == \"Italiano\":\n",
        "      text = text2_ita\n",
        "    elif language == \"Francais\":\n",
        "      text = text2_fra\n",
        "    else:\n",
        "      return \"Error in Language Specification.\"\n",
        "\n",
        "    out = nlp({\n",
        "      'question': question,\n",
        "      'context': text\n",
        "      })\n",
        "    return out['answer']\n",
        "\n",
        "  elif argument == \"MachineLearning\":\n",
        "\n",
        "    if language == \"English\":\n",
        "      text = text3\n",
        "    elif language == \"Italiano\":\n",
        "      text = text3_ita\n",
        "    elif language == \"Francais\":\n",
        "      text = text3_fra\n",
        "    else:\n",
        "      return \"Error in Language Specification.\"\n",
        "      \n",
        "    out = out = nlp({\n",
        "      'question': question,\n",
        "      'context': text\n",
        "      })\n",
        "    return out['answer']\n",
        "\n",
        "  elif argument == \"Energy\":\n",
        "\n",
        "    if language == \"English\":\n",
        "      text = text4\n",
        "    elif language == \"Italiano\":\n",
        "      text = text4_ita\n",
        "    elif language == \"Francais\":\n",
        "      text = text4_fra\n",
        "    else:\n",
        "      return \"Error in Language Specification.\"\n",
        "\n",
        "    out = nlp({\n",
        "      'question': question,\n",
        "      'context': text\n",
        "      })\n",
        "    return out['answer']\n",
        "  \n",
        "  return \"Error while generating the answer.\"\n"
      ],
      "execution_count": null,
      "outputs": []
    },
    {
      "cell_type": "code",
      "metadata": {
        "id": "nGnAEmwxr8kt"
      },
      "source": [
        "anvil.server.wait_forever()"
      ],
      "execution_count": null,
      "outputs": []
    }
  ]
}